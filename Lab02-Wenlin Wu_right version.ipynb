{
 "cells": [
  {
   "cell_type": "markdown",
   "metadata": {},
   "source": [
    "**Brief Honor Code**. Do the homework on your own. You may discuss ideas with your classmates, but DO NOT copy the solutions from someone else or the Internet. If stuck, discuss with TA."
   ]
  },
  {
   "cell_type": "markdown",
   "metadata": {},
   "source": [
    "**1**. (10 points) \n",
    "\n",
    "Rewrite the following code into functional form using lambdas, map, filter and reduce."
   ]
  },
  {
   "cell_type": "code",
   "execution_count": 3,
   "metadata": {},
   "outputs": [
    {
     "data": {
      "text/plain": [
       "123"
      ]
     },
     "execution_count": 3,
     "metadata": {},
     "output_type": "execute_result"
    }
   ],
   "source": [
    "n = 10\n",
    "s = 10\n",
    "for i in range(n):\n",
    "    if i % 2:\n",
    "        s |= i**2\n",
    "s"
   ]
  },
  {
   "cell_type": "code",
   "execution_count": 4,
   "metadata": {},
   "outputs": [
    {
     "data": {
      "text/plain": [
       "123"
      ]
     },
     "execution_count": 4,
     "metadata": {},
     "output_type": "execute_result"
    }
   ],
   "source": [
    "from functools import reduce\n",
    "s = 10\n",
    "n = 10\n",
    "reduce(lambda x,y: x|y, map(lambda i: i**2, filter(lambda i: i%2, list(range(n)))), s)"
   ]
  },
  {
   "cell_type": "markdown",
   "metadata": {},
   "source": [
    "**2**. (10 points)\n",
    "\n",
    "Rewrite the code above as a `toolz` pipeline, using lambdas and curried or partially applied functions as necessary."
   ]
  },
  {
   "cell_type": "code",
   "execution_count": 5,
   "metadata": {},
   "outputs": [
    {
     "data": {
      "text/plain": [
       "123"
      ]
     },
     "execution_count": 5,
     "metadata": {},
     "output_type": "execute_result"
    }
   ],
   "source": [
    "import toolz as tz\n",
    "import toolz.curried as c\n",
    "from functools import partial\n",
    "n = 10\n",
    "s = 10\n",
    "tz.pipe(\n",
    "    n,\n",
    "    range,\n",
    "    list,\n",
    "    c.filter(lambda i: i%2),\n",
    "    c.map(lambda i: i**2),\n",
    "    c.map(partial(lambda x,y: x|y, 10)),\n",
    "    c.reduce(lambda x,y: x|y)\n",
    ")"
   ]
  },
  {
   "cell_type": "markdown",
   "metadata": {},
   "source": [
    "**3**. (10 points) \n",
    "\n",
    "Repeat the Buffon's needle simulation from Lab01 as a function that takes the number of needels `n` as input and returns the estimate of $\\pi$. The function should use `numpy` and vectorization.  What is $\\pi$ for 1 million needles?"
   ]
  },
  {
   "cell_type": "code",
   "execution_count": 6,
   "metadata": {},
   "outputs": [
    {
     "name": "stdout",
     "output_type": "stream",
     "text": [
      "The estimate of pi is 3.1432998991000733\n"
     ]
    }
   ],
   "source": [
    "import numpy as np\n",
    "np.random.seed(123)\n",
    "L = 1\n",
    "D = 2\n",
    "d_center = np.random.uniform(0, D/2, 1000000)\n",
    "d_angle = np.random.uniform(0, np.arcsin(1), 1000000)\n",
    "\n",
    "d = L/2 * np.sin(d_angle)\n",
    "j = d_center - d\n",
    "P = len(j[j<0])/1000000\n",
    "pi = (2*L)/(P*D)\n",
    "print('The estimate of pi is {}'.format(pi))"
   ]
  },
  {
   "cell_type": "markdown",
   "metadata": {},
   "source": [
    "**4**. (20 points) \n",
    "\n",
    "Simpsons rule is given by the follwoing approximation\n",
    "\n",
    "![Simpsons](https://wikimedia.org/api/rest_v1/media/math/render/svg/a0cdf0804bb8810e4438cbea898dc7a2fedb3e57)\n",
    "\n",
    "- Write Simpsons rule as a function `simpsons(f, a, b, n=100)` where n is the number of equally spaced intervals from `a` to `b`.  (10 points)\n",
    "- Use this function to estimate the probability mass of the standard normal distribution between -1 and 1. Implement the PDF of the standard normal distribution $\\psi(x)$ as a function. (10 points)\n",
    "\n",
    "$$\n",
    "\\psi(x) = \\frac{1}{\\sqrt{2\\pi}}e^{-\\frac{1}{2}x^2}\n",
    "$$"
   ]
  },
  {
   "cell_type": "code",
   "execution_count": 41,
   "metadata": {},
   "outputs": [],
   "source": [
    "def simpson(f, a, b, n=100):\n",
    "    \"\"\"Use Simpsons's rule to slove numerical calculation.\n",
    "    \n",
    "    The numerical approximation of f(from a to b) integration.\n",
    "    \n",
    "    arg1 = f\n",
    "    arg2 = starting point of interval being calculated\n",
    "    arg3 = ending point of interval being calculated(include)\n",
    "    keyarg: n = 100, default number of equally spaced intervals from a to b\n",
    "    \n",
    "    Returns the approximation of f integration.\n",
    "    \n",
    "    Example usage:\n",
    "    \n",
    "    f = lambda x: x, list(range(1,3))\n",
    "    simpson(f, 1, 2) \n",
    "    0.5\n",
    "    \n",
    "    \"\"\"\n",
    "    x = np.linspace(a, b, 101)\n",
    "    h = (b-a)/n\n",
    "    \n",
    "    idx_odd = [i for i in range(1,100) if i%2!=0 ]\n",
    "    idx_even = [i for i in range(2,100) if i%2==0 ]\n",
    "    f_simpson = (f(a)+np.sum(f(x[idx_odd]))*2+np.sum(f(x[idx_even]))*4+f(b))*h/3\n",
    "    return f_simpson"
   ]
  },
  {
   "cell_type": "code",
   "execution_count": 42,
   "metadata": {},
   "outputs": [
    {
     "data": {
      "text/plain": [
       "0.67943095175624924"
      ]
     },
     "execution_count": 42,
     "metadata": {},
     "output_type": "execute_result"
    }
   ],
   "source": [
    "def f_test(x):\n",
    "    return np.exp(-x**2/2)/(np.sqrt(2*np.pi))\n",
    "simpson(f_test, -1, 1)"
   ]
  },
  {
   "cell_type": "code",
   "execution_count": 40,
   "metadata": {},
   "outputs": [
    {
     "data": {
      "text/plain": [
       "array([ 0.])"
      ]
     },
     "execution_count": 40,
     "metadata": {},
     "output_type": "execute_result"
    }
   ],
   "source": [
    "x = np.linspace(-1, 1, 101)"
   ]
  },
  {
   "cell_type": "markdown",
   "metadata": {},
   "source": [
    "**5**. (50 points)\n",
    "\n",
    "Write code to generate a plot similar to the following \n",
    "\n",
    "![automata](./automata1d.png)\n",
    "\n",
    "using the explanation for generation of 1D Cellular Automata found [here](http://mathworld.wolfram.com/ElementaryCellularAutomaton.html). You should only need to use standard Python, `numpy` and `matplotllib`.\n",
    "\n",
    "The input to the function making the plots should be a simple list of rules\n",
    "\n",
    "```python\n",
    "rules = [30, 54, 60, 62, 90, 94, 102, 110, 122, 126, \n",
    "         150, 158, 182, 188, 190, 220, 222, 250]\n",
    "make_plots(rules, niter, ncols)\n",
    "```\n",
    "\n",
    "You may, of course, write other helper functions to keep your code modular."
   ]
  },
  {
   "cell_type": "code",
   "execution_count": 20,
   "metadata": {},
   "outputs": [],
   "source": [
    "import matplotlib.pyplot as plt\n",
    "import numpy as np\n",
    "\n",
    "def make_plots(rules, niter, ncols):\n",
    "    for rule in rules:\n",
    "        rule1 = bin(rule).replace('0b','')\n",
    "        rule2 = \"00000000\"\n",
    "        rule = (rule2+rule1)[-8:]\n",
    "        a = np.zeros((niter,ncols), dtype='int' )\n",
    "        center = int((ncols-1)/2)\n",
    "        a[0, center] = 1\n",
    "        for i in range(1,(niter)):\n",
    "            for j in range(1,ncols-1):\n",
    "                if a[i-1,j-1]==1 and a[i-1,j]==1 and a[i-1,j+1]==1:\n",
    "                    a[i,j] = int(rule[0])\n",
    "                elif a[i-1,j-1]==1 and a[i-1,j]==1 and a[i-1,j+1]==0:\n",
    "                    a[i,j] = int(rule[1])\n",
    "                elif a[i-1,j-1]==1 and a[i-1,j]==0 and a[i-1,j+1]==1:\n",
    "                    a[i,j] = int(rule[2])\n",
    "                elif a[i-1,j-1]==1 and a[i-1,j]==0 and a[i-1,j+1]==0:\n",
    "                    a[i,j] = int(rule[3])\n",
    "                elif a[i-1,j-1]==0 and a[i-1,j]==1 and a[i-1,j+1]==1:\n",
    "                    a[i,j] = int(rule[4])\n",
    "                elif a[i-1,j-1]==0 and a[i-1,j]==1 and a[i-1,j+1]==0:\n",
    "                    a[i,j] = int(rule[5])\n",
    "                elif a[i-1,j-1]==0 and a[i-1,j]==0 and a[i-1,j+1]==1:\n",
    "                    a[i,j] = int(rule[6])\n",
    "                else:\n",
    "                    a[i,j] = int(rule[7])\n",
    "        color = np.dstack([a,a,a])\n",
    "        plt.figure()\n",
    "        plt.imshow(color.mean(axis=-1))"
   ]
  },
  {
   "cell_type": "code",
   "execution_count": 21,
   "metadata": {},
   "outputs": [
    {
     "data": {
      "image/png": "[encoded data removed]",
      "text/plain": [
       "<matplotlib.figure.Figure at 0x7f614d84c5c0>"
      ]
     },
     "metadata": {},
     "output_type": "display_data"
    },
    {
     "data": {
      "image/png": "[encoded data removed]",
      "text/plain": [
       "<matplotlib.figure.Figure at 0x7f614d84c4e0>"
      ]
     },
     "metadata": {},
     "output_type": "display_data"
    },
    {
     "data": {
      "image/png": "[encoded data removed]",
      "text/plain": [
       "<matplotlib.figure.Figure at 0x7f614cf33358>"
      ]
     },
     "metadata": {},
     "output_type": "display_data"
    },
    {
     "data": {
      "image/png": "[encoded data removed]",
      "text/plain": [
       "<matplotlib.figure.Figure at 0x7f614d4b7780>"
      ]
     },
     "metadata": {},
     "output_type": "display_data"
    },
    {
     "data": {
      "image/png": "[encoded data removed]",
      "text/plain": [
       "<matplotlib.figure.Figure at 0x7f614d433f28>"
      ]
     },
     "metadata": {},
     "output_type": "display_data"
    },
    {
     "data": {
      "image/png": "[encoded data removed]",
      "text/plain": [
       "<matplotlib.figure.Figure at 0x7f614d433ef0>"
      ]
     },
     "metadata": {},
     "output_type": "display_data"
    },
    {
     "data": {
      "image/png": "[encoded data removed]",
      "text/plain": [
       "<matplotlib.figure.Figure at 0x7f614d3f4c18>"
      ]
     },
     "metadata": {},
     "output_type": "display_data"
    },
    {
     "data": {
      "image/png": "[encoded data removed]",
      "text/plain": [
       "<matplotlib.figure.Figure at 0x7f614d3a49b0>"
      ]
     },
     "metadata": {},
     "output_type": "display_data"
    },
    {
     "data": {
      "image/png": "[encoded data removed]",
      "text/plain": [
       "<matplotlib.figure.Figure at 0x7f614d368438>"
      ]
     },
     "metadata": {},
     "output_type": "display_data"
    },
    {
     "data": {
      "image/png": "[encoded data removed]",
      "text/plain": [
       "<matplotlib.figure.Figure at 0x7f614d32b160>"
      ]
     },
     "metadata": {},
     "output_type": "display_data"
    },
    {
     "data": {
      "image/png": "[encoded data removed]",
      "text/plain": [
       "<matplotlib.figure.Figure at 0x7f614d2e3d68>"
      ]
     },
     "metadata": {},
     "output_type": "display_data"
    },
    {
     "data": {
      "image/png": "[encoded data removed]",
      "text/plain": [
       "<matplotlib.figure.Figure at 0x7f614d259710>"
      ]
     },
     "metadata": {},
     "output_type": "display_data"
    },
    {
     "data": {
      "image/png": "[encoded data removed]",
      "text/plain": [
       "<matplotlib.figure.Figure at 0x7f614d21a0b8>"
      ]
     },
     "metadata": {},
     "output_type": "display_data"
    },
    {
     "data": {
      "image/png": "[encoded data removed]",
      "text/plain": [
       "<matplotlib.figure.Figure at 0x7f614d1d3b70>"
      ]
     },
     "metadata": {},
     "output_type": "display_data"
    },
    {
     "data": {
      "image/png": "[encoded data removed]",
      "text/plain": [
       "<matplotlib.figure.Figure at 0x7f614d1906d8>"
      ]
     },
     "metadata": {},
     "output_type": "display_data"
    },
    {
     "data": {
      "image/png": "[encoded data removed]",
      "text/plain": [
       "<matplotlib.figure.Figure at 0x7f614d151630>"
      ]
     },
     "metadata": {},
     "output_type": "display_data"
    },
    {
     "data": {
      "image/png": "[encoded data removed]",
      "text/plain": [
       "<matplotlib.figure.Figure at 0x7f614cec2358>"
      ]
     },
     "metadata": {},
     "output_type": "display_data"
    },
    {
     "data": {
      "image/png": "[encoded data removed]",
      "text/plain": [
       "<matplotlib.figure.Figure at 0x7f614ce830f0>"
      ]
     },
     "metadata": {},
     "output_type": "display_data"
    }
   ],
   "source": [
    "rules = [30, 54, 60, 62, 90, 94, 102, 110, 122, 126, \n",
    "         150, 158, 182, 188, 190, 220, 222, 250]\n",
    "make_plots(rules, 15, 35)"
   ]
  },
  {
   "cell_type": "code",
   "execution_count": null,
   "metadata": {},
   "outputs": [],
   "source": []
  }
 ],
 "metadata": {
  "kernelspec": {
   "display_name": "Python 3",
   "language": "python",
   "name": "python3"
  },
  "language_info": {
   "codemirror_mode": {
    "name": "ipython",
    "version": 3
   },
   "file_extension": ".py",
   "mimetype": "text/x-python",
   "name": "python",
   "nbconvert_exporter": "python",
   "pygments_lexer": "ipython3",
   "version": "3.6.3"
  }
 },
 "nbformat": 4,
 "nbformat_minor": 2
}
